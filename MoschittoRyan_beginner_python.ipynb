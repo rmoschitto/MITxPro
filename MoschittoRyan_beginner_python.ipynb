{
  "nbformat": 4,
  "nbformat_minor": 0,
  "metadata": {
    "kernelspec": {
      "name": "python3",
      "display_name": "Python 3"
    },
    "colab": {
      "name": "MoschittoRyan beginner_python.ipynb",
      "provenance": [],
      "collapsed_sections": []
    }
  },
  "cells": [
    {
      "cell_type": "markdown",
      "metadata": {
        "collapsed": true,
        "id": "6zHZ_9RgvFcV"
      },
      "source": [
        "# Case Study 4.1 - Movies"
      ]
    },
    {
      "cell_type": "markdown",
      "metadata": {
        "id": "zAsNnwDNvFcW"
      },
      "source": [
        "<h1 style=\"color:red;\">Note: If you close this notebook at any time, you will have to run all cells again upon re-opening it.</h1>\n",
        "\n",
        "<h1 style=\"color:red;\">Note: You may get different numerical results running the notebook different times. This is to be expected, you can just report whatever results you get.</h1>"
      ]
    },
    {
      "cell_type": "markdown",
      "metadata": {
        "id": "xLAGlWXFvFcW"
      },
      "source": [
        "# BEGINNER PYTHON"
      ]
    },
    {
      "cell_type": "markdown",
      "metadata": {
        "id": "HAhUE1JNvFcX"
      },
      "source": [
        "As this is a beginner version, we include a lot of code here to help you along the way.\n",
        "\n",
        "**First, fill in your identification information below. Then, you only have to type in the answers to the questions we ask you. For the rest of the cells, just Run them by pressing the \"Run\" button above.**"
      ]
    },
    {
      "cell_type": "markdown",
      "metadata": {
        "id": "TRZq7Ge-vFcX"
      },
      "source": [
        "# Identification Information\n",
        "\n",
        "You can find your MITxPro username on this [page](https://courses.xpro.mit.edu/courses/course-v1:xPRO+DSx+R14/progress) and copying the username in quotations after it says \"Student\". For example, Kevin's username is \"kevin-lyons\".\n",
        "\n",
        "**Please use the correct username and the e-mail address right next to it as it makes it much easier for course staff to identify your notebook.**\n",
        "\n",
        "![image.png](data:image/png;base64,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)"
      ]
    },
    {
      "cell_type": "markdown",
      "metadata": {
        "id": "LmhLbn3kvFcY"
      },
      "source": [
        "**YOUR NAME**              = Ryan Moschitto \n",
        "\n",
        "**YOUR MITX PRO USERNAME** = ryan-a-moschitto\n",
        "\n",
        "**YOUR MITX PRO E-MAIL**   = RYAN.MOSCHITTO1@gmail.com"
      ]
    },
    {
      "cell_type": "markdown",
      "metadata": {
        "id": "epfjxrudvFcc"
      },
      "source": [
        "# Setup"
      ]
    },
    {
      "cell_type": "markdown",
      "metadata": {
        "id": "K5n5bIIZvFcd"
      },
      "source": [
        "Run these cells to install all the packages you need to complete the remainder of the case study. This may take a few minutes, so please be patient."
      ]
    },
    {
      "cell_type": "code",
      "metadata": {
        "trusted": true,
        "id": "toLi_NiAvFcd",
        "colab": {
          "base_uri": "https://localhost:8080/",
          "height": 136
        },
        "outputId": "96039bc5-f0a4-4da5-c749-edb30f84817f"
      },
      "source": [
        "!pip install --upgrade pip\n",
        "!pip install surprise==0.1"
      ],
      "execution_count": null,
      "outputs": [
        {
          "output_type": "stream",
          "text": [
            "Requirement already up-to-date: pip in /usr/local/lib/python3.6/dist-packages (20.2.4)\n",
            "Requirement already satisfied: surprise==0.1 in /usr/local/lib/python3.6/dist-packages (0.1)\n",
            "Requirement already satisfied: scikit-surprise in /usr/local/lib/python3.6/dist-packages (from surprise==0.1) (1.1.1)\n",
            "Requirement already satisfied: numpy>=1.11.2 in /usr/local/lib/python3.6/dist-packages (from scikit-surprise->surprise==0.1) (1.18.5)\n",
            "Requirement already satisfied: joblib>=0.11 in /usr/local/lib/python3.6/dist-packages (from scikit-surprise->surprise==0.1) (0.17.0)\n",
            "Requirement already satisfied: six>=1.10.0 in /usr/local/lib/python3.6/dist-packages (from scikit-surprise->surprise==0.1) (1.15.0)\n",
            "Requirement already satisfied: scipy>=1.0.0 in /usr/local/lib/python3.6/dist-packages (from scikit-surprise->surprise==0.1) (1.4.1)\n"
          ],
          "name": "stdout"
        }
      ]
    },
    {
      "cell_type": "markdown",
      "metadata": {
        "id": "Jr8XmWBCvFcg"
      },
      "source": [
        "If you do not see any red text, then the install was successful. Yellow text is just warnings, not errors."
      ]
    },
    {
      "cell_type": "markdown",
      "metadata": {
        "id": "9Og9mefKvFcg"
      },
      "source": [
        "# Import"
      ]
    },
    {
      "cell_type": "markdown",
      "metadata": {
        "id": "lMStWwkovFch"
      },
      "source": [
        "Import the required tools into the notebook."
      ]
    },
    {
      "cell_type": "code",
      "metadata": {
        "trusted": true,
        "id": "FSw4CrulvFch",
        "colab": {
          "base_uri": "https://localhost:8080/",
          "height": 34
        },
        "outputId": "3a7c5731-cee6-4cbc-c492-1ae3997cf624"
      },
      "source": [
        "import pandas as pd\n",
        "import matplotlib\n",
        "import numpy as np\n",
        "import scipy.stats as stats\n",
        "from surprise import Dataset, SVD, NormalPredictor, BaselineOnly, KNNBasic, NMF\n",
        "from surprise.model_selection import cross_validate, KFold\n",
        "%matplotlib inline\n",
        "print('Imports successful!')"
      ],
      "execution_count": null,
      "outputs": [
        {
          "output_type": "stream",
          "text": [
            "Imports successful!\n"
          ],
          "name": "stdout"
        }
      ]
    },
    {
      "cell_type": "markdown",
      "metadata": {
        "id": "tBJXNZmpvFck"
      },
      "source": [
        "# Data"
      ]
    },
    {
      "cell_type": "markdown",
      "metadata": {
        "id": "v2QVeCi7vFck"
      },
      "source": [
        "Load the MovieLens data. A dialog may pop up saying **\"Dataset ml-100k could not be found. Do you want to download it? [Y/n]\"** Type Y and hit Enter to start the download process."
      ]
    },
    {
      "cell_type": "code",
      "metadata": {
        "trusted": true,
        "id": "Q7Liu4wevFck",
        "colab": {
          "base_uri": "https://localhost:8080/",
          "height": 68
        },
        "outputId": "322bda96-2222-461d-e12c-20f734852a20"
      },
      "source": [
        "data = Dataset.load_builtin('ml-100k')\n",
        "print('\\n\\nData load successful!')"
      ],
      "execution_count": null,
      "outputs": [
        {
          "output_type": "stream",
          "text": [
            "\n",
            "\n",
            "Data load successful!\n"
          ],
          "name": "stdout"
        }
      ]
    },
    {
      "cell_type": "markdown",
      "metadata": {
        "id": "wuZ9gau6vFcn"
      },
      "source": [
        "We also want to get a sense of what the data looks like. Let's create a histogram of all the ratings we have in the dataset."
      ]
    },
    {
      "cell_type": "code",
      "metadata": {
        "trusted": true,
        "id": "V55E9HidvFcn",
        "colab": {
          "base_uri": "https://localhost:8080/",
          "height": 313
        },
        "outputId": "72994b55-13b8-43f0-9b0a-bdeba9f8497f"
      },
      "source": [
        "# 1. Get the ratings file from the data object\n",
        "# This is just a filename that has all the data stored in it\n",
        "ratings_file = data.ratings_file\n",
        "\n",
        "# 2. Load that table using pandas, a commmon python data loading tool\n",
        "# We set the column names manually here\n",
        "col_names = ['user_id', 'item_id', 'rating', 'timestamp']\n",
        "raw_data = pd.read_table(ratings_file, names=col_names)\n",
        "\n",
        "# 3. Get the rating column\n",
        "ratings = raw_data.rating\n",
        "\n",
        "# 4. Generate a bar plot/histogram of that data\n",
        "ratings.value_counts().sort_index().plot.bar()\n",
        "\n",
        "print('\\n\\nHistogram generation successful!')"
      ],
      "execution_count": null,
      "outputs": [
        {
          "output_type": "stream",
          "text": [
            "\n",
            "\n",
            "Histogram generation successful!\n"
          ],
          "name": "stdout"
        },
        {
          "output_type": "display_data",
          "data": {
            "image/png": "[encoded data removed]",
            "text/plain": [
              "<Figure size 432x288 with 1 Axes>"
            ]
          },
          "metadata": {
            "tags": [],
            "needs_background": "light"
          }
        }
      ]
    },
    {
      "cell_type": "code",
      "metadata": {
        "id": "nXDai3A21Fr_",
        "colab": {
          "base_uri": "https://localhost:8080/",
          "height": 34
        },
        "outputId": "ff3301f0-a574-45ab-dce6-b12e06ac8103"
      },
      "source": [
        "#Attempt to visulize data in python, find count of each bin, quartiles, mean and median\n",
        "raw_data.head(n=3)\n",
        "raw_data.describe\n",
        "raw_data[\"rating\"].mean()"
      ],
      "execution_count": null,
      "outputs": [
        {
          "output_type": "execute_result",
          "data": {
            "text/plain": [
              "3.52986"
            ]
          },
          "metadata": {
            "tags": []
          },
          "execution_count": 28
        }
      ]
    },
    {
      "cell_type": "code",
      "metadata": {
        "id": "D9ZtLx4D13pp",
        "colab": {
          "base_uri": "https://localhost:8080/",
          "height": 221
        },
        "outputId": "1549f1dd-7f1f-4b0c-a3e1-ee335f7180d4"
      },
      "source": [
        "#Attempt to visulize data in python, find count of each bin, quartiles, mean and median\n",
        "print(raw_data[\"rating\"].median())\n",
        "print(raw_data[\"rating\"].mode())\n",
        "raw_data[\"rating\"].describe()"
      ],
      "execution_count": null,
      "outputs": [
        {
          "output_type": "stream",
          "text": [
            "4.0\n",
            "0    4\n",
            "dtype: int64\n"
          ],
          "name": "stdout"
        },
        {
          "output_type": "execute_result",
          "data": {
            "text/plain": [
              "count    100000.000000\n",
              "mean          3.529860\n",
              "std           1.125674\n",
              "min           1.000000\n",
              "25%           3.000000\n",
              "50%           4.000000\n",
              "75%           4.000000\n",
              "max           5.000000\n",
              "Name: rating, dtype: float64"
            ]
          },
          "metadata": {
            "tags": []
          },
          "execution_count": 36
        }
      ]
    },
    {
      "cell_type": "code",
      "metadata": {
        "id": "TYRD26zs3sbw",
        "colab": {
          "base_uri": "https://localhost:8080/",
          "height": 119
        },
        "outputId": "a6824ffd-494d-4116-dbf1-283f495e083f"
      },
      "source": [
        "#Attempt to visulize data in python, find count of each bin, quartiles, mean and median\n",
        "raw_data[\"rating\"].value_counts()"
      ],
      "execution_count": null,
      "outputs": [
        {
          "output_type": "execute_result",
          "data": {
            "text/plain": [
              "4    34174\n",
              "3    27145\n",
              "5    21201\n",
              "2    11370\n",
              "1     6110\n",
              "Name: rating, dtype: int64"
            ]
          },
          "metadata": {
            "tags": []
          },
          "execution_count": 35
        }
      ]
    },
    {
      "cell_type": "markdown",
      "metadata": {
        "id": "opgW09MDvFcr"
      },
      "source": [
        "<h1 style=\"color:red;\">QUESTION 1: DATA ANALYSIS</h1>"
      ]
    },
    {
      "cell_type": "markdown",
      "metadata": {
        "id": "7sY6OZpPvFcr"
      },
      "source": [
        "**Describe the dataset. How many ratings are in the dataset? How would you describe the distribution of ratings? Is there anything else we should observe? Make sure the histogram is visible in the notebook.**"
      ]
    },
    {
      "cell_type": "markdown",
      "metadata": {
        "id": "FWRGJL7BvFcs"
      },
      "source": [
        "There are 100,000 entries of ratings ranging from 1 to 5 in this dataset from MovieLens (1,2,3,4,5). Additionally, we are given a time stamp, user ID, and item ID for each rating. The dataset, according to the source: https://grouplens.org/datasets/movielens/100k/, is 100,000 ratings from 1000 users on 1700 movies. This data was released in April of 1998.\n",
        "\n",
        "A visual inspection from the histogram reveals that the data does not look symmetric and therefore not normal. Instead, it seems to have more ratings above 3. I ran summary statistics and a count to reinforce the visual description provided by the histogram. The most frequent rating is 4, followed by 3,5,2,1 in counts shown above. The median rating is 4.0, the mean is 3.52985, this suggests a negative skewness or left skew. If following are hypotheses that could be investigated: these numbers might suggest that users tend to rate movies when the really enjoy them (4 or 5) and may not waste time to rate them if they do not (1 or 2). The movie selected is a collection of movies that generally liked (3, 4, 5) as opposed to disliked (1 or 2). This might be credit to the curator or  business strategy to acquire rights or offering of movies that already have passed some initial screening so not to waste money on initially screened and poorly rated movies. \n",
        "\n",
        "Also, it is worth noting we only observe 1,2,3,4, or 5s. This means there were not any errors in recording ratings (i.e. 0s or 6s or a non-discrete rating i.e. 3.5)"
      ]
    },
    {
      "cell_type": "markdown",
      "metadata": {
        "id": "TBka-1xtvFcs"
      },
      "source": [
        "# Model 1: Random"
      ]
    },
    {
      "cell_type": "code",
      "metadata": {
        "trusted": true,
        "id": "GQX9mSu2vFct",
        "colab": {
          "base_uri": "https://localhost:8080/",
          "height": 34
        },
        "outputId": "69f921f3-0062-4b1a-ce4e-0cc25077a5a6"
      },
      "source": [
        "# Create model object\n",
        "model_random = NormalPredictor()\n",
        "print('Model creation successful!')"
      ],
      "execution_count": null,
      "outputs": [
        {
          "output_type": "stream",
          "text": [
            "Model creation successful!\n"
          ],
          "name": "stdout"
        }
      ]
    },
    {
      "cell_type": "code",
      "metadata": {
        "trusted": true,
        "id": "SEs-lxEAvFcy",
        "colab": {
          "base_uri": "https://localhost:8080/",
          "height": 170
        },
        "outputId": "fa2a191b-febf-45b0-d4a0-2441eecef04b"
      },
      "source": [
        "# Train on data using cross-validation with k=5 folds, measuring the RMSE\n",
        "model_random_results = cross_validate(model_random, data, measures=['RMSE'], cv=5, verbose=True)\n",
        "print('\\n\\nModel training successful!')"
      ],
      "execution_count": null,
      "outputs": [
        {
          "output_type": "stream",
          "text": [
            "Evaluating RMSE of algorithm NormalPredictor on 5 split(s).\n",
            "\n",
            "                  Fold 1  Fold 2  Fold 3  Fold 4  Fold 5  Mean    Std     \n",
            "RMSE (testset)    1.5331  1.5208  1.5212  1.5244  1.5205  1.5240  0.0048  \n",
            "Fit time          0.12    0.15    0.16    0.15    0.15    0.15    0.01    \n",
            "Test time         0.15    0.14    0.22    0.14    0.22    0.17    0.04    \n",
            "\n",
            "\n",
            "Model training successful!\n"
          ],
          "name": "stdout"
        }
      ]
    },
    {
      "cell_type": "markdown",
      "metadata": {
        "id": "9SWeYzLIvFc0"
      },
      "source": [
        "# Model 2: User-Based Collaborative Filtering"
      ]
    },
    {
      "cell_type": "code",
      "metadata": {
        "trusted": true,
        "id": "moWgvfUbvFc1",
        "colab": {
          "base_uri": "https://localhost:8080/",
          "height": 34
        },
        "outputId": "c615e8db-a542-45e6-f37c-44496f7df42d"
      },
      "source": [
        "# Create model object\n",
        "model_user = KNNBasic(sim_options={'user_based': True})\n",
        "print('Model creation successful!')"
      ],
      "execution_count": null,
      "outputs": [
        {
          "output_type": "stream",
          "text": [
            "Model creation successful!\n"
          ],
          "name": "stdout"
        }
      ]
    },
    {
      "cell_type": "code",
      "metadata": {
        "trusted": true,
        "id": "k704GnBUvFc3",
        "colab": {
          "base_uri": "https://localhost:8080/",
          "height": 340
        },
        "outputId": "636fc492-dec4-4ada-b20f-5994aea574fa"
      },
      "source": [
        "# Train on data using cross-validation with k=5 folds, measuring the RMSE\n",
        "# Note, this may have a lot of print output\n",
        "# You can set verbose=False to prevent this from happening\n",
        "model_user_results = cross_validate(model_user, data, measures=['RMSE'], cv=5, verbose=True)\n",
        "print('\\n\\nModel training successful!')"
      ],
      "execution_count": null,
      "outputs": [
        {
          "output_type": "stream",
          "text": [
            "Computing the msd similarity matrix...\n",
            "Done computing similarity matrix.\n",
            "Computing the msd similarity matrix...\n",
            "Done computing similarity matrix.\n",
            "Computing the msd similarity matrix...\n",
            "Done computing similarity matrix.\n",
            "Computing the msd similarity matrix...\n",
            "Done computing similarity matrix.\n",
            "Computing the msd similarity matrix...\n",
            "Done computing similarity matrix.\n",
            "Evaluating RMSE of algorithm KNNBasic on 5 split(s).\n",
            "\n",
            "                  Fold 1  Fold 2  Fold 3  Fold 4  Fold 5  Mean    Std     \n",
            "RMSE (testset)    0.9748  0.9805  0.9788  0.9732  0.9856  0.9786  0.0044  \n",
            "Fit time          0.39    0.41    0.39    0.39    0.42    0.40    0.01    \n",
            "Test time         3.55    3.69    3.64    3.69    3.55    3.62    0.06    \n",
            "\n",
            "\n",
            "Model training successful!\n"
          ],
          "name": "stdout"
        }
      ]
    },
    {
      "cell_type": "markdown",
      "metadata": {
        "id": "iyzIDvmUvFc5"
      },
      "source": [
        "# Model 3: Item-Based Collaborative Filtering"
      ]
    },
    {
      "cell_type": "code",
      "metadata": {
        "trusted": true,
        "id": "6xw_mkhyvFc6",
        "colab": {
          "base_uri": "https://localhost:8080/",
          "height": 34
        },
        "outputId": "02145ecd-e239-4a71-a639-b15f71415ffc"
      },
      "source": [
        "# Create model object\n",
        "model_item = KNNBasic(sim_options={'user_based': False})\n",
        "print('Model creation successful!')"
      ],
      "execution_count": null,
      "outputs": [
        {
          "output_type": "stream",
          "text": [
            "Model creation successful!\n"
          ],
          "name": "stdout"
        }
      ]
    },
    {
      "cell_type": "code",
      "metadata": {
        "trusted": true,
        "id": "6f-LsweRvFc9",
        "colab": {
          "base_uri": "https://localhost:8080/",
          "height": 340
        },
        "outputId": "a0d48d67-04b5-4ff2-f1a0-00be2ebab7c1"
      },
      "source": [
        "# Train on data using cross-validation with k=5 folds, measuring the RMSE\n",
        "# Note, this may have a lot of print output\n",
        "# You can set verbose=False to prevent this from happening\n",
        "model_item_results = cross_validate(model_item, data, measures=['RMSE'], cv=5, verbose=True)\n",
        "print('\\n\\nModel training successful!')"
      ],
      "execution_count": null,
      "outputs": [
        {
          "output_type": "stream",
          "text": [
            "Computing the msd similarity matrix...\n",
            "Done computing similarity matrix.\n",
            "Computing the msd similarity matrix...\n",
            "Done computing similarity matrix.\n",
            "Computing the msd similarity matrix...\n",
            "Done computing similarity matrix.\n",
            "Computing the msd similarity matrix...\n",
            "Done computing similarity matrix.\n",
            "Computing the msd similarity matrix...\n",
            "Done computing similarity matrix.\n",
            "Evaluating RMSE of algorithm KNNBasic on 5 split(s).\n",
            "\n",
            "                  Fold 1  Fold 2  Fold 3  Fold 4  Fold 5  Mean    Std     \n",
            "RMSE (testset)    0.9714  0.9818  0.9843  0.9706  0.9618  0.9740  0.0081  \n",
            "Fit time          0.57    0.61    0.58    0.59    0.60    0.59    0.01    \n",
            "Test time         4.01    4.05    4.11    4.21    4.25    4.13    0.09    \n",
            "\n",
            "\n",
            "Model training successful!\n"
          ],
          "name": "stdout"
        }
      ]
    },
    {
      "cell_type": "markdown",
      "metadata": {
        "id": "UwtyT2fAvFc_"
      },
      "source": [
        "<h1 style=\"color:red;\">QUESTION 2: COLLABORATIVE FILTERING MODELS</h1>"
      ]
    },
    {
      "cell_type": "markdown",
      "metadata": {
        "id": "WBk5fHKmvFdA"
      },
      "source": [
        "**Compare the results from the user-user and item-item models. How do they compare to each other? How do they compare to our original \"random\" model? Can you provide any intuition as to why the results came out the way they did?**"
      ]
    },
    {
      "cell_type": "markdown",
      "metadata": {
        "id": "7OJ5AlbRvFdA"
      },
      "source": [
        "Before looking at the results, and basing a judgment on the modules before this cast study, I would expect to see a user-based filtering perform better than item-based since we are dealing with a big data set of 100,000 ratings. Item-based collaborative filtering should perform better on smaller datasets. User-based filtering is used to find similar users based on preference or consumption and then provide recommendations based on similar user ratings of movies. Whereas item-based would find similarity between movies to determine whether a user would like it or not. However, class Module 4.6 suggested item personalization might perform better when popular movies have many ratings and less popular movies have sparse ratings. This would allow those popular movies to have more collisions and more accuracy in measuring similarity between items or popular movies.  \n",
        "\n",
        "Looking at the models created, the RMSE mean are as follows…Random = 1.5240, User-Based = 0.9786, Item-Based = 0.9740. ***This means both our User and Item based models perform better than random. That is good! However, our item-based model only slightly performs better than user-based model.*** In fact, I would argue that they virtually perform the same and this variation is dependent on how the data was split to train the model and test it. It is important to point out that these methods only use ratings to find similarity (not profiles of user age, genre, or other characteristics…Super Cool!) So, users would be rated as similar if they give similar ratings to the same movies. Since item-based performed just slightly better, this might mean the data for items may have provided more collisions on the same movies to better estimate similar items. Other factors that may have affected user or item based models would be the breakdown of users rating more movies, or did they pretty much rate the same number of movies? Of those ratings, were they similar or different across users? Were those movies more popular or less popular and what was the spread of ratings? I do not know how to code in python yet to answer that, but those questions are ones I would try to find answers to determine which model should perform better. I also would have expected similarity between users to be more dynamic or change more rapidly than similarity between items, which I would expect is more static. But maybe the training sets had alot overlap in users and items and that is why they are virtually the same. \n"
      ]
    },
    {
      "cell_type": "code",
      "metadata": {
        "id": "SgWrjCAWHsd6"
      },
      "source": [
        ""
      ],
      "execution_count": null,
      "outputs": []
    },
    {
      "cell_type": "markdown",
      "metadata": {
        "id": "TTot5cKGvFdB"
      },
      "source": [
        "# Model 4: Matrix Factorization"
      ]
    },
    {
      "cell_type": "code",
      "metadata": {
        "trusted": true,
        "id": "7-VJuR4hvFdB",
        "colab": {
          "base_uri": "https://localhost:8080/",
          "height": 34
        },
        "outputId": "68dbcb66-9001-4d64-9f50-cae0c58fb8b5"
      },
      "source": [
        "# Create model object\n",
        "model_matrix = SVD()\n",
        "print('Model creation successful!')"
      ],
      "execution_count": null,
      "outputs": [
        {
          "output_type": "stream",
          "text": [
            "Model creation successful!\n"
          ],
          "name": "stdout"
        }
      ]
    },
    {
      "cell_type": "code",
      "metadata": {
        "trusted": true,
        "id": "TaXKt5pkvFdD",
        "colab": {
          "base_uri": "https://localhost:8080/",
          "height": 170
        },
        "outputId": "c040e873-f37f-4661-876f-54d28672f818"
      },
      "source": [
        "# Train on data using cross-validation with k=5 folds, measuring the RMSE\n",
        "# Note, this may take some time (2-3 minutes) to train, so please be patient\n",
        "model_matrix_results = cross_validate(model_matrix, data, measures=['RMSE'], cv=5, verbose=True)\n",
        "print('\\n\\nModel training successful!')"
      ],
      "execution_count": null,
      "outputs": [
        {
          "output_type": "stream",
          "text": [
            "Evaluating RMSE of algorithm SVD on 5 split(s).\n",
            "\n",
            "                  Fold 1  Fold 2  Fold 3  Fold 4  Fold 5  Mean    Std     \n",
            "RMSE (testset)    0.9347  0.9391  0.9445  0.9318  0.9355  0.9371  0.0044  \n",
            "Fit time          7.47    5.11    5.08    5.20    5.10    5.59    0.94    \n",
            "Test time         0.27    0.14    0.15    0.14    0.14    0.17    0.05    \n",
            "\n",
            "\n",
            "Model training successful!\n"
          ],
          "name": "stdout"
        }
      ]
    },
    {
      "cell_type": "markdown",
      "metadata": {
        "id": "pOLEpSvCvFdF"
      },
      "source": [
        "<h1 style=\"color:red;\">QUESTION 3: MATRIX FACTORIZATION MODEL</h1>"
      ]
    },
    {
      "cell_type": "markdown",
      "metadata": {
        "id": "ZEEBkfqDvFdG"
      },
      "source": [
        "**The matrix factorization model is different from the collaborative filtering models. Briefly describe this difference. Also, compare the RMSE again. Does it improve? Can you offer any reasoning as to why that might be?**"
      ]
    },
    {
      "cell_type": "markdown",
      "metadata": {
        "id": "1KKw95JmvFdG"
      },
      "source": [
        "Matrix factorization is a way to break down the larger matrix into smaller ones to find an underlying mathematical structure to help us find the missing ratings for future predictions.  Here we are breaking down a large matrix into a product of smaller ones like a principal component decomposition, but in this case for movies (ratings and users). Again, using the 5 fold cross-validation, we have reduced the mean RMSE to 0.9371 making the Matrix Factorization the best model to use compared to the Random = 1.5240, User-Based = 0.9786, Item-Based = 0.9740. I cannot quite tell, but I think this python method used the impute method to fill in the missing values; however, this could introduce bias from the observed data due to the sparse original matrix. I think the method used is taking the observed ratings and users to minimize the RMSE through the technique of singular value decomposition. This has an issue of possibly overfitting the data. Either way, the Matrix Factorization is using a low-rank matrix to find features or principals, which is completely different than finding similarity between items or users in the models above or just random assignment.\n",
        "Since the Matrix factorization is utilizing SVD, it can overcome some issues with Collaborative Filtering and achieve the lowest RMSE. User-User or Item-item models have cold start issues when new users or items are added. Data sparsity can exacerbate the cold start issue and lower the quality of the user or item based recommendations. While collaborative filtering does not require features, matrix factorization is extracting those features based on the partially filled matrix to make recommendations.  \n"
      ]
    },
    {
      "cell_type": "markdown",
      "metadata": {
        "id": "-a29roDjvFdH"
      },
      "source": [
        "# Precision and Recall @ `k`"
      ]
    },
    {
      "cell_type": "markdown",
      "metadata": {
        "id": "romGhChIvFdH"
      },
      "source": [
        "We now want to compute the precision and recall for 2 values of `k`: 5 and 10. We have provided some code here to help you do that."
      ]
    },
    {
      "cell_type": "markdown",
      "metadata": {
        "id": "4lnaBoH8vFdH"
      },
      "source": [
        "First, we define a function that takes in some predictions, a value of `k` and a threshold parameter. This code is adapted from [here](http://surprise.readthedocs.io/en/stable/FAQ.html?highlight=precision#how-to-compute-precision-k-and-recall-k). **Make sure you run this cell.**"
      ]
    },
    {
      "cell_type": "code",
      "metadata": {
        "trusted": true,
        "id": "nTuWrAAHvFdI",
        "colab": {
          "base_uri": "https://localhost:8080/",
          "height": 34
        },
        "outputId": "4bb918a6-b54f-46e8-93a2-78913f0bdf31"
      },
      "source": [
        "def precision_recall_at_k(predictions, k=10, threshold=3.5):\n",
        "    '''Return precision and recall at k metrics for each user.'''\n",
        "\n",
        "    # First map the predictions to each user.\n",
        "    user_est_true = dict()\n",
        "    for uid, _, true_r, est, _ in predictions:\n",
        "        current = user_est_true.get(uid, list())\n",
        "        current.append((est, true_r))\n",
        "        user_est_true[uid] = current\n",
        "\n",
        "    precisions = dict()\n",
        "    recalls = dict()\n",
        "    for uid, user_ratings in user_est_true.items():\n",
        "\n",
        "        # Sort user ratings by estimated value\n",
        "        user_ratings.sort(key=lambda x: x[0], reverse=True)\n",
        "\n",
        "        # Number of relevant items\n",
        "        n_rel = sum((true_r >= threshold) for (_, true_r) in user_ratings)\n",
        "\n",
        "        # Number of recommended items in top k\n",
        "        n_rec_k = sum((est >= threshold) for (est, _) in user_ratings[:k])\n",
        "\n",
        "        # Number of relevant and recommended items in top k\n",
        "        n_rel_and_rec_k = sum(((true_r >= threshold) and (est >= threshold))\n",
        "                              for (est, true_r) in user_ratings[:k])\n",
        "\n",
        "        # Precision@K: Proportion of recommended items that are relevant\n",
        "        precisions[uid] = n_rel_and_rec_k / n_rec_k if n_rec_k != 0 else 1\n",
        "\n",
        "        # Recall@K: Proportion of relevant items that are recommended\n",
        "        recalls[uid] = n_rel_and_rec_k / n_rel if n_rel != 0 else 1\n",
        "\n",
        "    return precisions, recalls\n",
        "\n",
        "print('Function creation successful!')"
      ],
      "execution_count": null,
      "outputs": [
        {
          "output_type": "stream",
          "text": [
            "Function creation successful!\n"
          ],
          "name": "stdout"
        }
      ]
    },
    {
      "cell_type": "markdown",
      "metadata": {
        "id": "tNvnAJDfvFdJ"
      },
      "source": [
        "Next, we compute the precision and recall at `k` = 5 and 10 for each of our 4 models. We use 5-fold cross validation again to average the results across the entire dataseat.\n",
        "\n",
        "Please note that this will take some time to compute."
      ]
    },
    {
      "cell_type": "markdown",
      "metadata": {
        "id": "yKyCBrErvFdK"
      },
      "source": [
        "<h1 style=\"color:red;\">QUESTION 4: PRECISION/RECALL</h1>"
      ]
    },
    {
      "cell_type": "markdown",
      "metadata": {
        "id": "lr4tzFdXvFdK"
      },
      "source": [
        "**Compute the precision and recall, for each of the 4 models, at `k` = 5 and 10. This is 2 x 2 x 4 = 16 numerical values. Do you note anything interesting about these values? Anything differerent from the RMSE values you computed above?**"
      ]
    },
    {
      "cell_type": "markdown",
      "metadata": {
        "id": "BaV6FlT5vFdK"
      },
      "source": [
        "![P&RTable2.png](data:image/png;base64,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)\n",
        "\n",
        "Above is a picture of two tables summarizing the precision and recall outputs. Precision is the positive predictive value, the fraction of relevant instances among the retrieved instances. Recall is the sensitivity or fraction of the total amount of relevant instances that were retrieved. Both should be between 0 and 1, and usually when we increase recall, we decrease precision. I found the harmonic mean of precision and recall finding the F1 Score to compare these 8 models. The second table has the same 8 models sorted from largest to smallest F1 score to compare the 8 models. Notice the two random models had the lowest F1 score just like they had the lowest RMSE shown in item-item and user-user. When comparing to RMSE order to the F1 score RMSE had Matrix, Item, User, Random…F1 Score has User, Matrix, Item, Random, …Precision k=5 has Item, Matrix, User, Random…Recall k=5 has User, Matrix, Item, Random. Also, this second table shows the k=10 models all performing better than the k=5 with regards to the F1 score."
      ]
    },
    {
      "cell_type": "code",
      "metadata": {
        "trusted": true,
        "id": "y6_rr4MwvFdL",
        "colab": {
          "base_uri": "https://localhost:8080/",
          "height": 1428
        },
        "outputId": "9e39e742-b3d6-4819-ebca-0cc379602c2a"
      },
      "source": [
        "# Make list of k values\n",
        "K = [5, 10]\n",
        "\n",
        "# Make list of models\n",
        "models = [model_random, model_user, model_item, model_matrix]\n",
        "model_names = ['model_random', 'model_user', 'model_item', 'model_matrix']\n",
        "\n",
        "# Create k-fold cross validation object\n",
        "kf = KFold(n_splits=5)\n",
        "\n",
        "for k in K:\n",
        "    for i, model in enumerate(models):\n",
        "        print(f'>>> k={k}, model={model_names[i]}')\n",
        "        # Run folder and take average\n",
        "        p = []\n",
        "        r = []\n",
        "        for trainset, testset in kf.split(data):\n",
        "            model.fit(trainset)\n",
        "            predictions = model.test(testset, verbose=False)\n",
        "            precisions, recalls = precision_recall_at_k(predictions, k=k, threshold=3.5)\n",
        "\n",
        "            # Precision and recall can then be averaged over all users\n",
        "            p.append(sum(prec for prec in precisions.values()) / len(precisions))\n",
        "            r.append(sum(rec for rec in recalls.values()) / len(recalls))\n",
        "        \n",
        "        print('>>> precision:', round(sum(p) / len(p), 3))\n",
        "        print('>>> reccall  :', round(sum(r) / len(r), 3))\n",
        "        print('\\n')\n",
        "\n",
        "print('\\n\\nPrecision and recall computation successful!')"
      ],
      "execution_count": null,
      "outputs": [
        {
          "output_type": "stream",
          "text": [
            ">>> k=5, model=model_random\n",
            ">>> precision: 0.586\n",
            ">>> reccall  : 0.342\n",
            "\n",
            "\n",
            ">>> k=5, model=model_user\n",
            "Computing the msd similarity matrix...\n",
            "Done computing similarity matrix.\n",
            "Computing the msd similarity matrix...\n",
            "Done computing similarity matrix.\n",
            "Computing the msd similarity matrix...\n",
            "Done computing similarity matrix.\n",
            "Computing the msd similarity matrix...\n",
            "Done computing similarity matrix.\n",
            "Computing the msd similarity matrix...\n",
            "Done computing similarity matrix.\n",
            ">>> precision: 0.766\n",
            ">>> reccall  : 0.455\n",
            "\n",
            "\n",
            ">>> k=5, model=model_item\n",
            "Computing the msd similarity matrix...\n",
            "Done computing similarity matrix.\n",
            "Computing the msd similarity matrix...\n",
            "Done computing similarity matrix.\n",
            "Computing the msd similarity matrix...\n",
            "Done computing similarity matrix.\n",
            "Computing the msd similarity matrix...\n",
            "Done computing similarity matrix.\n",
            "Computing the msd similarity matrix...\n",
            "Done computing similarity matrix.\n",
            ">>> precision: 0.813\n",
            ">>> reccall  : 0.39\n",
            "\n",
            "\n",
            ">>> k=5, model=model_matrix\n",
            ">>> precision: 0.781\n",
            ">>> reccall  : 0.437\n",
            "\n",
            "\n",
            ">>> k=10, model=model_random\n",
            ">>> precision: 0.59\n",
            ">>> reccall  : 0.437\n",
            "\n",
            "\n",
            ">>> k=10, model=model_user\n",
            "Computing the msd similarity matrix...\n",
            "Done computing similarity matrix.\n",
            "Computing the msd similarity matrix...\n",
            "Done computing similarity matrix.\n",
            "Computing the msd similarity matrix...\n",
            "Done computing similarity matrix.\n",
            "Computing the msd similarity matrix...\n",
            "Done computing similarity matrix.\n",
            "Computing the msd similarity matrix...\n",
            "Done computing similarity matrix.\n",
            ">>> precision: 0.738\n",
            ">>> reccall  : 0.592\n",
            "\n",
            "\n",
            ">>> k=10, model=model_item\n",
            "Computing the msd similarity matrix...\n",
            "Done computing similarity matrix.\n",
            "Computing the msd similarity matrix...\n",
            "Done computing similarity matrix.\n",
            "Computing the msd similarity matrix...\n",
            "Done computing similarity matrix.\n",
            "Computing the msd similarity matrix...\n",
            "Done computing similarity matrix.\n",
            "Computing the msd similarity matrix...\n",
            "Done computing similarity matrix.\n",
            ">>> precision: 0.788\n",
            ">>> reccall  : 0.53\n",
            "\n",
            "\n",
            ">>> k=10, model=model_matrix\n",
            ">>> precision: 0.759\n",
            ">>> reccall  : 0.564\n",
            "\n",
            "\n",
            "\n",
            "\n",
            "Precision and recall computation successful!\n"
          ],
          "name": "stdout"
        }
      ]
    },
    {
      "cell_type": "markdown",
      "metadata": {
        "id": "u3jCSkAovFdO"
      },
      "source": [
        "#  Top-`n` Predictions"
      ]
    },
    {
      "cell_type": "markdown",
      "metadata": {
        "id": "PD8vtMEfvFdP"
      },
      "source": [
        "Finally, we can see what some of the actual movie ratings are for particular users, as outputs of our model."
      ]
    },
    {
      "cell_type": "markdown",
      "metadata": {
        "id": "8su6EKjAvFdP"
      },
      "source": [
        "Again, we define a helpful function."
      ]
    },
    {
      "cell_type": "code",
      "metadata": {
        "trusted": true,
        "id": "eBprT-rkvFdQ",
        "colab": {
          "base_uri": "https://localhost:8080/",
          "height": 34
        },
        "outputId": "9dea134b-8344-4009-d08c-6e1ee2bf3fb7"
      },
      "source": [
        "def get_top_n(predictions, n=5):\n",
        "    '''Return the top-N recommendation for each user from a set of predictions.\n",
        "\n",
        "    Args:\n",
        "        predictions(list of Prediction objects): The list of predictions, as\n",
        "            returned by the test method of an algorithm.\n",
        "        n(int): The number of recommendation to output for each user. Default\n",
        "            is 10.\n",
        "\n",
        "    Returns:\n",
        "    A dict where keys are user (raw) ids and values are lists of tuples:\n",
        "        [(raw item id, rating estimation), ...] of size n.\n",
        "    '''\n",
        "\n",
        "    # First map the predictions to each user.\n",
        "    top_n = dict()\n",
        "    for uid, iid, true_r, est, _ in predictions:\n",
        "        current = top_n.get(uid, [])\n",
        "        current.append((iid, est))\n",
        "        top_n[uid] = current\n",
        "\n",
        "    # Then sort the predictions for each user and retrieve the k highest ones.\n",
        "    for uid, user_ratings in top_n.items():\n",
        "        user_ratings.sort(key=lambda x: x[1], reverse=True)\n",
        "        top_n[uid] = user_ratings[:n]\n",
        "\n",
        "    return top_n\n",
        "\n",
        "print('Function creation successful!')"
      ],
      "execution_count": null,
      "outputs": [
        {
          "output_type": "stream",
          "text": [
            "Function creation successful!\n"
          ],
          "name": "stdout"
        }
      ]
    },
    {
      "cell_type": "markdown",
      "metadata": {
        "id": "9t1WIi56vFdR"
      },
      "source": [
        "Then, we call this function on each of our models, first training on **all** the data we have available, then predicting on the remaining, missing data. We use `n`=5 here, but you can pick any reasonable value of `n` you would like.\n",
        "\n",
        "This may take some time to compute, so be patient."
      ]
    },
    {
      "cell_type": "code",
      "metadata": {
        "trusted": true,
        "id": "cPxtdUXhvFdS",
        "colab": {
          "base_uri": "https://localhost:8080/",
          "height": 34
        },
        "outputId": "7a05842f-a74f-43c8-84e5-6cc0da91d7b4"
      },
      "source": [
        "trainset = data.build_full_trainset()\n",
        "testset = trainset.build_anti_testset()\n",
        "print('Trainset and testset creation successful!')"
      ],
      "execution_count": null,
      "outputs": [
        {
          "output_type": "stream",
          "text": [
            "Trainset and testset creation successful!\n"
          ],
          "name": "stdout"
        }
      ]
    },
    {
      "cell_type": "markdown",
      "metadata": {
        "id": "fF2xVMJKvFdU"
      },
      "source": [
        "<h1 style=\"color:red;\">QUESTION 5: TOP N PREDICTIONS</h1>"
      ]
    },
    {
      "cell_type": "markdown",
      "metadata": {
        "id": "guArxBjlvFdU"
      },
      "source": [
        "**Do the top n predictions that you received make sense? What is the rating value (1-5) of these predictions? How could you use these predictions in the real-world if you were trying to build a generic content recommender system for a company?**"
      ]
    },
    {
      "cell_type": "markdown",
      "metadata": {
        "id": "XGIgd7fXvFdU"
      },
      "source": [
        "A cursory review shows the top n predictions pass muster in the sense that 4.3 is the lowest rating recommendation. What’s a little shocking is the random model recommended 5 movies with a rating of 5. The User model recommended another 5 movies with rating of 5, but there was no overlap in the movies. Both models had 5 different movies. The item model recommended a different set of 5 movies with 4.67, 4.5, 4.5, 4.33, and 4.30 ratings. The matrix model yet again recommended a complete different set of 5 movies with ratings of 4.69, 4.67, 4.59, 4.57, and 4.5. \n",
        "\n",
        "A way to use these predictions in the real world is to have multiple recommendation lines. Just like Netflix and Prime do today, they have several lines of recommendations for different reasons (i.e. romcoms, action, tv shows, movies, documentary). There could be 4 lines recommending these 5 different movies on each line. The customer gets to see 20 different recommendations. Then once the user gets past the cold start problem and starts informing each one of these models it will better inform future recommendations. I would argue that even the random model would benefit a recommender system in that it would possibly put something in front of the user that they may watch (and would not have otherwise) that would again help fill the sparse matrix of ratings and allow the item, user, or matrix models to improve with more ratings on a wider array movies. Also by introducing random recommendations, these system can help navigate changes in preferences, changes in time, and find completely new movies the user may not have known they would like.  \n"
      ]
    },
    {
      "cell_type": "code",
      "metadata": {
        "trusted": true,
        "id": "-tVlSlIFvFdV",
        "colab": {
          "base_uri": "https://localhost:8080/",
          "height": 360
        },
        "outputId": "2f1097f6-9763-45c6-a6bc-e9f0702fc76b"
      },
      "source": [
        "for i, model in enumerate(models):\n",
        "    model.fit(trainset)\n",
        "    predictions = model.test(testset)\n",
        "    top_n = get_top_n(predictions, n=5)\n",
        "    # Print the first one\n",
        "    user = list(top_n.keys())[0]\n",
        "    print(f'model name: {model_names[i]}')\n",
        "    print(f'user ID: {user}')\n",
        "    print(f'top 5 movie ID\\'s this user would like, sorted by rating highest to lowest: {top_n[user]}')\n",
        "\n",
        "print('\\n\\nTop N computation successful! YOU ARE DONE WITH THE CODE!')"
      ],
      "execution_count": null,
      "outputs": [
        {
          "output_type": "stream",
          "text": [
            "model name: model_random\n",
            "user ID: 196\n",
            "top 5 movie ID's this user would like, sorted by rating highest to lowest: [('246', 5), ('98', 5), ('88', 5), ('1137', 5), ('181', 5)]\n",
            "Computing the msd similarity matrix...\n",
            "Done computing similarity matrix.\n",
            "model name: model_user\n",
            "user ID: 196\n",
            "top 5 movie ID's this user would like, sorted by rating highest to lowest: [('1189', 5), ('1500', 5), ('814', 5), ('1536', 5), ('1599', 5)]\n",
            "Computing the msd similarity matrix...\n",
            "Done computing similarity matrix.\n",
            "model name: model_item\n",
            "user ID: 196\n",
            "top 5 movie ID's this user would like, sorted by rating highest to lowest: [('1414', 4.666666666666667), ('1309', 4.5), ('1310', 4.5), ('1675', 4.333333333333333), ('1676', 4.3076923076923075)]\n",
            "model name: model_matrix\n",
            "user ID: 196\n",
            "top 5 movie ID's this user would like, sorted by rating highest to lowest: [('483', 4.698233574163323), ('50', 4.67672353548491), ('114', 4.598658975222539), ('318', 4.572446694215102), ('408', 4.508223601184483)]\n",
            "\n",
            "\n",
            "Top N computation successful! YOU ARE DONE WITH THE CODE!\n"
          ],
          "name": "stdout"
        }
      ]
    },
    {
      "cell_type": "markdown",
      "metadata": {
        "id": "-og58WTlvFdW"
      },
      "source": [
        "<hr>"
      ]
    },
    {
      "cell_type": "markdown",
      "metadata": {
        "id": "rcdE7bU2vFdX"
      },
      "source": [
        "Great job! Now, make sure you check out the **Conclusion** section of the [instruction manual](https://courses.xpro.mit.edu/asset-v1:xPRO+DSx+R14+type@asset+block@4.1_instruction_manual_14.html) to wrap up this case study properly."
      ]
    }
  ]
}